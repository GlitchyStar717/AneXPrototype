{
 "cells": [
  {
   "cell_type": "code",
   "execution_count": 3,
   "metadata": {},
   "outputs": [],
   "source": [
    "import pandas as pd\n",
    "import numpy as np\n",
    "import matplotlib.pyplot as plt"
   ]
  },
  {
   "cell_type": "code",
   "execution_count": 4,
   "metadata": {},
   "outputs": [
    {
     "name": "stdout",
     "output_type": "stream",
     "text": [
      "<class 'pandas.core.frame.DataFrame'>\n",
      "Index: 980 entries, 0 to 979\n",
      "Data columns (total 25 columns):\n",
      " #   Column                     Non-Null Count  Dtype  \n",
      "---  ------                     --------------  -----  \n",
      " 0   brand_name                 980 non-null    object \n",
      " 1   model                      980 non-null    object \n",
      " 2   price                      980 non-null    int64  \n",
      " 3   rating                     980 non-null    float64\n",
      " 4   has_5g                     980 non-null    bool   \n",
      " 5   has_nfc                    980 non-null    bool   \n",
      " 6   has_ir_blaster             980 non-null    bool   \n",
      " 7   processor_brand            980 non-null    object \n",
      " 8   num_cores                  980 non-null    float64\n",
      " 9   processor_speed            980 non-null    float64\n",
      " 10  battery_capacity           980 non-null    float64\n",
      " 11  fast_charging_available    980 non-null    int64  \n",
      " 12  fast_charging              980 non-null    float64\n",
      " 13  ram_capacity               980 non-null    float64\n",
      " 14  internal_memory            980 non-null    float64\n",
      " 15  screen_size                980 non-null    float64\n",
      " 16  refresh_rate               980 non-null    int64  \n",
      " 17  resolution                 980 non-null    object \n",
      " 18  num_rear_cameras           980 non-null    int64  \n",
      " 19  num_front_cameras          980 non-null    float64\n",
      " 20  os                         980 non-null    object \n",
      " 21  primary_camera_rear        980 non-null    float64\n",
      " 22  primary_camera_front       980 non-null    float64\n",
      " 23  extended_memory_available  980 non-null    int64  \n",
      " 24  extended_upto              980 non-null    float64\n",
      "dtypes: bool(3), float64(12), int64(5), object(5)\n",
      "memory usage: 179.0+ KB\n"
     ]
    }
   ],
   "source": [
    "#Import the dataset and make it indexed\n",
    "df = pd.read_csv('./smartphone_cleaned_v5.csv')\n",
    "df = df.sort_values(by='model',ascending=True)\n",
    "df[\"SN\"] = list(range(len(df.index)))\n",
    "df=df.set_index('SN')\n",
    "\n",
    "#Remove the NA values\n",
    "df =df.ffill(axis=0)\n",
    "#Remove the errors where no memory slot but the NA filling method has given storage\n",
    "df['extended_upto'] = np.where(df['extended_memory_available']==0,0,df['extended_upto'])\n",
    "df.fillna({'fast_charging':22},inplace=True) #ffill didn't work for iphone 11 and iphone 11 pro in the 1st run of code. so it manually for 2 mobiles\n",
    "df.fillna({'extended_upto':0},inplace=True) #ffill didn't work for iphone 11 and iphone 11 pro in the 1st run of code. so it manually for 2 mobiles\n",
    "df.info()\n"
   ]
  },
  {
   "cell_type": "code",
   "execution_count": 3,
   "metadata": {},
   "outputs": [
    {
     "name": "stdout",
     "output_type": "stream",
     "text": [
      "<class 'pandas.core.frame.DataFrame'>\n",
      "Index: 980 entries, 0 to 979\n",
      "Data columns (total 25 columns):\n",
      " #   Column                     Non-Null Count  Dtype  \n",
      "---  ------                     --------------  -----  \n",
      " 0   brand_name                 980 non-null    object \n",
      " 1   model                      980 non-null    object \n",
      " 2   price                      980 non-null    int64  \n",
      " 3   rating                     980 non-null    float64\n",
      " 4   has_5g                     980 non-null    bool   \n",
      " 5   has_nfc                    980 non-null    bool   \n",
      " 6   has_ir_blaster             980 non-null    bool   \n",
      " 7   processor_brand            980 non-null    object \n",
      " 8   num_cores                  980 non-null    float64\n",
      " 9   processor_speed            980 non-null    float64\n",
      " 10  battery_capacity           980 non-null    float64\n",
      " 11  fast_charging_available    980 non-null    int64  \n",
      " 12  fast_charging              980 non-null    float64\n",
      " 13  ram_capacity               980 non-null    float64\n",
      " 14  internal_memory            980 non-null    float64\n",
      " 15  screen_size                980 non-null    float64\n",
      " 16  refresh_rate               980 non-null    int64  \n",
      " 17  resolution                 980 non-null    object \n",
      " 18  num_rear_cameras           980 non-null    int64  \n",
      " 19  num_front_cameras          980 non-null    float64\n",
      " 20  os                         980 non-null    object \n",
      " 21  primary_camera_rear        980 non-null    float64\n",
      " 22  primary_camera_front       980 non-null    float64\n",
      " 23  extended_memory_available  980 non-null    int64  \n",
      " 24  extended_upto              980 non-null    float64\n",
      "dtypes: bool(3), float64(12), int64(5), object(5)\n",
      "memory usage: 179.0+ KB\n"
     ]
    }
   ],
   "source": [
    "\n",
    "\n",
    "# df3 = df[df.index.isin(df2.index)]\n",
    "# df3[df3.index.isnull()]\n",
    "# df4=df[df['extended_memory_available']==0]\n",
    "# df4[df4['extended_upto'] != 0]\n",
    "\n",
    "\n",
    "df.info()\n",
    "# df[df['fast_charging'].null()]"
   ]
  },
  {
   "cell_type": "code",
   "execution_count": null,
   "metadata": {},
   "outputs": [],
   "source": [
    "from copy import deepcopy\n",
    "df2 = deepcopy(df)\n",
    "\n",
    "\n",
    "df2=df2.dropna(how='any',axis=0)\n",
    "df2.info()"
   ]
  },
  {
   "cell_type": "code",
   "execution_count": null,
   "metadata": {},
   "outputs": [],
   "source": [
    "category = 'processor_speed'\n",
    "df[category].info()"
   ]
  },
  {
   "cell_type": "code",
   "execution_count": null,
   "metadata": {},
   "outputs": [],
   "source": [
    "df['num_cores'].info()\n",
    "df_t = df.isnull()\n",
    "df_t.head()"
   ]
  },
  {
   "cell_type": "code",
   "execution_count": 7,
   "metadata": {},
   "outputs": [
    {
     "data": {
      "text/plain": [
       "['Apple iPhone 11',\n",
       " 'Apple iPhone 11 (128GB)',\n",
       " 'Apple iPhone 11 Pro Max',\n",
       " 'Apple iPhone 12',\n",
       " 'Apple iPhone 12 (128GB)',\n",
       " 'Apple iPhone 12 (256GB)']"
      ]
     },
     "execution_count": 7,
     "metadata": {},
     "output_type": "execute_result"
    }
   ],
   "source": [
    "list(df.loc[0:5,'model'])"
   ]
  },
  {
   "cell_type": "code",
   "execution_count": null,
   "metadata": {},
   "outputs": [],
   "source": [
    "def evaluate_resolution(expression):\n",
    "    try:\n",
    "        # Replace special characters and evaluate the expression\n",
    "        expression = expression.replace(\" \", \"\").replace(\"x\", \"*\")\n",
    "        return eval(expression)\n",
    "    except Exception as e:\n",
    "        # Handle any errors that occur during evaluation\n",
    "        print(f\"Error evaluating expression '{expression}': {e}\")\n",
    "        return False\n",
    "    \n",
    "    \n",
    "def categorize_phone(row):\n",
    "    condition_fast_processor = row[\"processor_speed\"]*10/max_speed\n",
    "    condition_fluid_display = 10 if row[\"refresh_rate\"] >60 else 5\n",
    "    condition_many_cores = row[\"num_cores\"]*10/max_cores\n",
    "    condition_nfc = 5 if row[\"has_nfc\"]==True  else 0\n",
    "    condition_5g=5 if row[\"has_5g\"]==True else 0\n",
    "    condition_resolution = (8 + 2*row['pixels']/max_resolution) if row['pixels']>=q2_resolution else 8*row['pixels']/q2_resolution\n",
    "    total = condition_5g+condition_fluid_display +  condition_fast_processor + condition_nfc + condition_many_cores +condition_resolution\n",
    "    if total > 40: return \"flagship\"\n",
    "    elif total >30: return \"midrange\"\n",
    "    else: return \"average\"\n",
    "    # no_of_conditions_satisfied = condition_5g.astype(int)+condition_fluid_display.astype(int) +  condition_fast_processor.astype(int) + condition_nfc.astype(int) + condition_many_cores.astype(int) +condition_resolution.astype(int)\n",
    "    \n",
    "def categorize_camera(row):\n",
    "    if row[\"phone_category\"] == \"flagship\":\n",
    "        c1 = 10\n",
    "    elif row[\"phone_category\"] == \"midrange\":\n",
    "        c1 = 8\n",
    "    else:\n",
    "        c1 = 5\n",
    "\n",
    "    c2 = (8 + row[\"primary_camera_rear\"]*2/max_rear) if row[\"primary_camera_rear\"] > 12 else 8*row[\"primary_camera_rear\"]/12\n",
    "    c3 = (8 + row[\"primary_camera_rear\"]*2/max_front) if row[\"primary_camera_rear\"] > 10 else 8*row[\"primary_camera_rear\"]/10\n",
    "    \n",
    "    brand_quality = {'apple':5, 'google':5, 'samsumg':4,'huawei':4}\n",
    "    c4 = brand_quality[row['brand_name']] if row[\"brand_name\"] in brand_quality else 3\n",
    "\n",
    "    total = 10 + 10 + 10 + 5 # sum of maximum of c1 + c2 + c3 + c4\n",
    "    rating = (c1+c2+c3)*10.0/total\n",
    "    return rating\n",
    "    \n",
    "def categorize_performance(row):\n",
    "    c1 = row[\"processor_speed\"]*10/max_speed\n",
    "    c2 = row[\"num_cores\"]*10/max_cores\n",
    "    c3 = (8 + row[\"ram_capacity\"]*2/max_ram) if row[\"ram_capacity\"] > 8 else row[\"ram_capacity\"]/8  \n",
    "    \n",
    "    total = 10 + 10 + 10\n",
    "    rating = (c1+c2+c3)*10.0/total\n",
    "    return rating"
   ]
  },
  {
   "cell_type": "code",
   "execution_count": null,
   "metadata": {},
   "outputs": [],
   "source": [
    "x = 8*8/12\n",
    "x"
   ]
  },
  {
   "cell_type": "code",
   "execution_count": null,
   "metadata": {},
   "outputs": [],
   "source": [
    "from copy import deepcopy\n",
    "df2 = deepcopy(df)\n",
    "\n",
    "#defining the ceiling\n",
    "max_cores = max(df2[\"num_cores\"].unique())\n",
    "max_speed = max(df2[\"processor_speed\"].unique())\n",
    "max_ram = max(df2[\"ram_capacity\"].unique())\n",
    "max_price = max(df2[\"price\"].unique())\n",
    "max_rear = max(df2[\"primary_camera_rear\"].unique())\n",
    "max_front = max(df2[\"primary_camera_front\"].unique())\n",
    "max_resolution = max(df2[\"pixels\"].unique())\n",
    "max_refresh = max(df2[\"refresh_rate\"].unique())\n",
    "\n",
    "max_specs = [max_cores,max_speed,max_ram,max_price,max_rear,max_front,max_front,max_resolution,max_refresh]\n",
    "\n",
    "#defining the ceilings\n",
    "q1_cores = np.percentile(df['num_cores'].unique(),25)\n",
    "q1_speed = np.percentile(df2[\"processor_speed\"].unique(),25)\n",
    "q1_ram = np.percentile(df2[\"ram_capacity\"].unique(),25)\n",
    "q1_price = np.percentile(df2[\"price\"].unique(),25)\n",
    "q1_rear = np.percentile(df2[\"primary_camera_rear\"].unique(),25)\n",
    "q1_front = np.percentile(df2[\"primary_camera_front\"].unique(),25)\n",
    "q1_resolution = np.percentile(df2[\"pixels\"].unique(),25)\n",
    "q1_refresh = np.percentile(df2[\"refresh_rate\"].unique(),25)\n",
    "\n",
    "q1_specs = [q1_cores,q1_speed,q1_ram,q1_price,q1_rear,q1_front,q1_front,q1_resolution,q1_refresh]\n",
    "\n",
    "#defining the ceiling\n",
    "q2_cores = np.percentile(df2[\"num_cores\"].unique(),50)\n",
    "q2_speed = np.percentile(df2[\"processor_speed\"].unique(),50)\n",
    "q2_ram = np.percentile(df2[\"ram_capacity\"].unique(),50)\n",
    "q2_price = np.percentile(df2[\"price\"].unique(),50)\n",
    "q2_rear = np.percentile(df2[\"primary_camera_rear\"].unique(),50)\n",
    "q2_front = np.percentile(df2[\"primary_camera_front\"].unique(),50)\n",
    "q2_resolution = np.percentile(df2[\"pixels\"].unique(),50)\n",
    "q2_refresh = np.percentile(df2[\"refresh_rate\"].unique(),50)\n",
    "\n",
    "q2_specs = [q2_cores,q2_speed,q2_ram,q2_price,q2_rear,q2_front,q2_front,q2_resolution,q2_refresh]\n",
    "\n",
    "#defining the ceiling\n",
    "q3_cores = np.percentile(df2[\"num_cores\"].unique(),75)\n",
    "q3_speed = np.percentile(df2[\"processor_speed\"].unique(),75)\n",
    "q3_ram = np.percentile(df2[\"ram_capacity\"].unique(),75)\n",
    "q3_price = np.percentile(df2[\"price\"].unique(),75)\n",
    "q3_rear = np.percentile(df2[\"primary_camera_rear\"].unique(),75)\n",
    "q3_front = np.percentile(df2[\"primary_camera_front\"].unique(),75)\n",
    "q3_resolution = np.percentile(df2[\"pixels\"].unique(),75)\n",
    "q3_refresh = np.percentile(df2[\"refresh_rate\"].unique(),75)\n",
    "\n",
    "q3_specs = [q3_cores,q3_speed,q3_ram,q3_price,q3_rear,q3_front,q3_front,q3_resolution,q3_refresh]\n",
    "\n"
   ]
  },
  {
   "cell_type": "code",
   "execution_count": null,
   "metadata": {},
   "outputs": [],
   "source": []
  },
  {
   "cell_type": "code",
   "execution_count": null,
   "metadata": {},
   "outputs": [],
   "source": []
  },
  {
   "cell_type": "code",
   "execution_count": null,
   "metadata": {},
   "outputs": [],
   "source": []
  },
  {
   "cell_type": "code",
   "execution_count": 17,
   "metadata": {},
   "outputs": [
    {
     "data": {
      "text/plain": [
       "'Hello'"
      ]
     },
     "execution_count": 17,
     "metadata": {},
     "output_type": "execute_result"
    }
   ],
   "source": [
    "my_dictionary = {\n",
    "    \"name\": \"John\",\n",
    "    \"age\": 30,\n",
    "    \"city\": \"New York\",\n",
    "    \"country\": \"USA\",\n",
    "    \"occupation\": \"Engineer\",\n",
    "    '1':\"Hello\"\n",
    "}\n",
    "x = 1\n",
    "my_dictionary[f'{x}']"
   ]
  },
  {
   "cell_type": "code",
   "execution_count": 16,
   "metadata": {},
   "outputs": [
    {
     "data": {
      "text/plain": [
       "[('name', 'John'),\n",
       " ('age', 30),\n",
       " ('city', 'New York'),\n",
       " ('country', 'USA'),\n",
       " ('occupation', 'Engineer')]"
      ]
     },
     "execution_count": 16,
     "metadata": {},
     "output_type": "execute_result"
    }
   ],
   "source": [
    "keys = list(my_dictionary.keys())\n",
    "values = list(my_dictionary.values())\n",
    "\n",
    "list(zip(keys,values))"
   ]
  },
  {
   "cell_type": "code",
   "execution_count": null,
   "metadata": {},
   "outputs": [],
   "source": []
  },
  {
   "cell_type": "markdown",
   "metadata": {},
   "source": []
  },
  {
   "cell_type": "code",
   "execution_count": null,
   "metadata": {},
   "outputs": [],
   "source": [
    "# condition_fast_processor = df[\"processor_speed\"]>3\n",
    "# condition_fluid_display = df[\"refresh_rate\"]>60\n",
    "# condition_many_cores = df[\"num_cores\"]>=8\n",
    "# condition_nfc = df[\"has_nfc\"]==True\n",
    "# condition_5g=df[\"has_5g\"]==True\n",
    "# condition_resolution = df[\"resolution\"].apply(evaluate_resolution)\n",
    "# no_of_conditions_satisfied = condition_5g.astype(int)+condition_fluid_display.astype(int) +  condition_fast_processor.astype(int) + condition_nfc.astype(int) + condition_many_cores.astype(int) +condition_resolution.astype(int)\n",
    "# # all_conditions = condition_fluid_display &  condition_fast_processor & condition_nfc & condition_5g & condition_many_cores & condition_resolution\n",
    "# # most_conditions = \n",
    "# # average_conditions = \n",
    "# # better_than_no_conditions = \n",
    "# # no_conditions = \n",
    "# conditions = no_of_conditions_satisfied == 6"
   ]
  },
  {
   "cell_type": "code",
   "execution_count": null,
   "metadata": {},
   "outputs": [],
   "source": [
    "from copy import deepcopy\n",
    "df2 = deepcopy(df)\n",
    "df2.head()\n",
    "final_rec = deepcopy(df)\n",
    "final_rec.head()\n"
   ]
  },
  {
   "cell_type": "code",
   "execution_count": null,
   "metadata": {},
   "outputs": [],
   "source": [
    "def evaluate_resolution(expression):\n",
    "    try:\n",
    "        # Replace special characters and evaluate the expression\n",
    "        expression = expression['resolution'].replace(\" \", \"\").replace(\"x\", \"*\")\n",
    "        return  eval(expression)\n",
    "        \n",
    "    except Exception as e:\n",
    "        # Handle any errors that occur during evaluation\n",
    "        print(f\"Error evaluating expression '{expression}': {e}\")\n",
    "        return False\n",
    "    # return expression['resolution']\n",
    "    \n",
    "df['pixels'] = df.apply(evaluate_resolution,axis=1)\n",
    "np.percentile(df['pixels'],99)"
   ]
  },
  {
   "cell_type": "code",
   "execution_count": null,
   "metadata": {},
   "outputs": [],
   "source": [
    "def evaluate_resolution(expression):\n",
    "    try:\n",
    "        # Replace special characters and evaluate the expression\n",
    "        expression = expression.replace(\" \", \"\").replace(\"x\", \"*\")\n",
    "        return eval(expression)\n",
    "    except Exception as e:\n",
    "        # Handle any errors that occur during evaluation\n",
    "        print(f\"Error evaluating expression '{expression}': {e}\")\n",
    "        return False\n",
    "\n",
    "max_cores = max(df[\"num_cores\"].unique())\n",
    "max_speed = max(df[\"processor_speed\"].unique())\n",
    "max_price = max(df[\"price\"].unique())\n",
    "max_rear = max(df[\"primary_camera_rear\"].unique())\n",
    "max_front = max(df[\"primary_camera_front\"].unique())\n",
    "max_resolution = max(df[\"pixels\"].unique())\n",
    "max_refresh = max(df[\"refresh_rate\"].unique())\n",
    "\n",
    "max_specs = [max_cores,max_speed,max_price,max_rear,max_front,max_front,max_resolution,max_refresh]\n",
    "max_specs"
   ]
  },
  {
   "cell_type": "code",
   "execution_count": null,
   "metadata": {},
   "outputs": [],
   "source": []
  },
  {
   "cell_type": "code",
   "execution_count": null,
   "metadata": {},
   "outputs": [],
   "source": []
  },
  {
   "cell_type": "code",
   "execution_count": null,
   "metadata": {},
   "outputs": [],
   "source": [
    "item = 'price'\n",
    "p1 = np.percentile(df[item],1)\n",
    "p2 = np.percentile(df[item],10)\n",
    "p3 = np.percentile(df[item],90)\n",
    "p4 = np.percentile(df[item],99)\n",
    "p1,p2,p3,p4\n"
   ]
  },
  {
   "cell_type": "code",
   "execution_count": null,
   "metadata": {},
   "outputs": [],
   "source": [
    "# pre-processing\n",
    "\n",
    "#price\n",
    "category = 'primary_camera_rear'\n",
    "p1 = np.percentile(df[category],10)\n",
    "p2 = np.percentile(df[category],90)\n",
    "df2 = df.query(f\"{category} >= {p1} and {category} <= {p2}\")\n",
    "max(df2[category])\n",
    "# min(df[category].unique())\n"
   ]
  },
  {
   "cell_type": "code",
   "execution_count": null,
   "metadata": {},
   "outputs": [],
   "source": [
    "def evaluate_resolution(expression):\n",
    "    try:\n",
    "        # Replace special characters and evaluate the expression\n",
    "        expression = expression['resolution'].replace(\" \", \"\").replace(\"x\", \"*\")\n",
    "        return  eval(expression)\n",
    "        \n",
    "    except Exception as e:\n",
    "        # Handle any errors that occur during evaluation\n",
    "        print(f\"Error evaluating expression '{expression}': {e}\")\n",
    "        return False\n",
    "    # return expression['resolution']\n",
    "    \n",
    "df2['pixels'] = df2.apply(evaluate_resolution,axis=1)\n",
    "np.percentile(df2['pixels'],99)"
   ]
  },
  {
   "cell_type": "code",
   "execution_count": null,
   "metadata": {},
   "outputs": [],
   "source": [
    "sorted(df2['pixels'].unique(),reverse=True)"
   ]
  },
  {
   "cell_type": "code",
   "execution_count": null,
   "metadata": {},
   "outputs": [],
   "source": []
  },
  {
   "cell_type": "code",
   "execution_count": null,
   "metadata": {},
   "outputs": [],
   "source": []
  },
  {
   "cell_type": "code",
   "execution_count": null,
   "metadata": {},
   "outputs": [],
   "source": []
  },
  {
   "cell_type": "code",
   "execution_count": null,
   "metadata": {},
   "outputs": [],
   "source": []
  },
  {
   "cell_type": "code",
   "execution_count": null,
   "metadata": {},
   "outputs": [],
   "source": [
    "expensives = df.query(\"price <= 5449\")\n",
    "expensives.sort_values(by='price', ascending=True)"
   ]
  },
  {
   "cell_type": "code",
   "execution_count": null,
   "metadata": {},
   "outputs": [],
   "source": [
    "objects = df[df[\"rating\"].isnull()]\n",
    "# print(objects)\n",
    "\n",
    "\n",
    "from copy import deepcopy\n",
    "df2 = deepcopy(df)\n",
    "df2.head()\n",
    "\n",
    "# max_cores = max(df[\"num_cores\"].unique())\n",
    "# max_speed = max(df[\"processor_speed\"].unique())\n",
    "\n",
    "# # print(max_cores,max_speed)\n",
    "\n",
    "# # Assuming df is your DataFrame\n",
    "df2['phone_category'] = df2.apply(categorize_phone, axis=1)\n",
    "# df2['camera_category'] = df2.apply(categorize_camera, axis=1)\n",
    "\n",
    "# objects = df2[df[\"rating\"].isnull()]\n",
    "# objects\n",
    "\n",
    "\n",
    "\n",
    "# Apply np.where based on the phone_category column\n",
    "df2['rating'] = np.where(df2['rating'].isnull() & (df2['phone_category'] == \"flagship\"), 90,\n",
    "                        np.where(df2['rating'].isnull() & (df2['phone_category'] == \"midrange\"), 65,\n",
    "                                 np.where(df2['rating'].isnull() & (df2['phone_category'] == \"average\"), 40, df2['rating'])))\n",
    "\n",
    "# Apply np.where based on the phone_category column\n",
    "df2['rating'] = np.where(df2['rating'].isnull() & (df2['phone_category'] == \"flagship\"), 90,\n",
    "                        np.where(df2['rating'].isnull() & (df2['phone_category'] == \"midrange\"), 65,\n",
    "                                 np.where(df2['rating'].isnull() & (df2['phone_category'] == \"average\"), 40, df2['rating'])))\n",
    "\n",
    "df2.head()\n"
   ]
  },
  {
   "cell_type": "code",
   "execution_count": null,
   "metadata": {},
   "outputs": [],
   "source": [
    "final_rec = final_rec.query(\"brand_name == 'apple'\")\n",
    "final_rec.head()"
   ]
  },
  {
   "cell_type": "code",
   "execution_count": null,
   "metadata": {},
   "outputs": [],
   "source": [
    "final_rec = final_rec.query(\"price >= 100000\")\n",
    "final_rec.head()"
   ]
  },
  {
   "cell_type": "markdown",
   "metadata": {},
   "source": []
  },
  {
   "cell_type": "code",
   "execution_count": null,
   "metadata": {},
   "outputs": [],
   "source": [
    "final_rec = final_rec.query(\"refresh_rate <= 90\")\n",
    "final_rec.head()"
   ]
  },
  {
   "cell_type": "code",
   "execution_count": null,
   "metadata": {},
   "outputs": [],
   "source": [
    "pixels = df.query(\"brand_name == 'google'\")\n"
   ]
  },
  {
   "cell_type": "code",
   "execution_count": null,
   "metadata": {},
   "outputs": [],
   "source": [
    "level5 = ['excellent', 'outstanding','exceptional','remarkable','first-rate','top-notch','exceptionally good',' splendid', 'impressive',\"Superlative\",\"Exemplary\",\"Prime\",\"Stellar\",\"Astonishing\",\"Fabulous\",\"Phenomenal\",\"Spectacular\",\"Marvelous\",\"Exceptionally\",\"Incredible\",\"Brilliant\",\"Sublime\",\"Distinguished\",\"Peerless\",\"Unparalleled\",\"Eminent\",\"Unsurpassed\",\"Unbeatable\",\"Epic\"]\n",
    "level1 = adjectives_worst = [\"Abysmal\",\"Appalling\",\"Atrocious\",\"Awful\",\"Dreadful\",\"Terrible\",\"Horrendous\",\"Horrible\",\"Deplorable\",\"Disastrous\",\"Disgusting\",\"Execrable\",\"Lousy\",\"Pathetic\",\"Shameful\",\"Unspeakable\",\"Vile\",\"Wretched\",\"Miserable\",\"Catastrophic\",\"Grim\",\"Woeful\",\"Dire\",\"Repulsive\",\"Rotten\",\"Detestable\",\"Unacceptable\",\"Inferior\",\"Foul\",\"Unsatisfactory\"]\n",
    "categories = [] #performance,camera,software,build,display,photo,video,video, storage,speaker"
   ]
  },
  {
   "cell_type": "code",
   "execution_count": null,
   "metadata": {},
   "outputs": [],
   "source": [
    "stage1 = [\n",
    "    'How do you want to get recommendation?',\n",
    "    'Entering your own phrase',\n",
    "    'Get your questions asked'\n",
    "]\n",
    "\n",
    "exact_questions = [\n",
    "    '1.) IPhone 2.) Android 3.)Open to both',\n",
    "    \"Do you want a particular smartphone brand? \\n1.) No 2.) Yes (Input your brand)\",\n",
    "    'What screen size would you prefer? \\n1.) below 6.1\" 2.) between 6.1\" & 6.6\" 3.) above 6.6\" 4.) Doesn\\'t matter',\n",
    "    'Do you want your phone to have 5g? \\n1.) Yes 2.) No 3.) Any',\n",
    "    'What is your budget range Example (inside the \"\") \"45000-50000\"?'\n",
    "]\n",
    "performance_questions = [\n",
    "    'Do you frequently play games on your smartphone? (y/n)',\n",
    "    'Do you use a  lot of apps? (y/n)',\n",
    "    'Do you want to take high quality photos and videos (y/n)',\n",
    "    'Do you wish to use your smartphone for over 5 years? (y/n)',\n",
    "    'Do you wish to have all new features in your smartphone? (y/n)'\n",
    "]\n",
    "camera_questions = [\n",
    "    'Do you want to take high quality photos and videos? (y/n)',\n",
    "    'Do you want a camera that shoot good in night time? (y/n)'\n",
    "    'Would you love to shoot zoom and potrait shots? (y/n)'\n",
    "    'Do you want to shoot many videos? (y/n)',\n",
    "    'Do you want to shoot many photos? (y/n)'\n",
    "]\n",
    "software_questions = [\n",
    "    'Do you want to get new updates for 5+ years? (y/n)'\n",
    "    \"Do you mind useless apps pre-installed in your smartphone? (y/n)\",\n",
    "    'Do you like to have easy software support? (y/n)'\n",
    "    'Can you distinguish between smooth and non smooth animation? (y/n)'\n",
    "]\n",
    "display_questions = [\n",
    "    'Do you do a lot of scrolling? (y/n)',\n",
    "    \"Do you like watching movies in mobile? (y/n)\",\n",
    "    'Do you consume a lot of media like youtube and more? (y/n)',\n",
    "    'Do you wish to use phone a lot on sunlight? (y/n)'\n",
    "]\n",
    "storage_questions = [\n",
    "    \"Do you take a lot of photos and videos? (y/n)\",\n",
    "    'Do you store a lot of offline medias like movies or other files in smartphones? (y/n)',\n",
    "    \"Do you want your smartphone to be able to store everything you want for years to come? (y/n)\",\n",
    "    'Do you want to transfer from and to your smartphones quickly? (y/n)'\n",
    "    'Do you download a lot of apps orr games? (y/n)',\n",
    "]\n",
    "speaker_questions = [\n",
    "    \"Would you like a good speaker? \\n1.) yes (y) 2.) don't mind (n)\"\n",
    "]\n",
    "battery_questions = [\n",
    "    \"Do you like a bigger battery? (y/n)\",\n",
    "    'Do you charge very rarely? (y/n)'\n",
    "    \"Do you waipcnt fast charging? (y/n)\",\n",
    "    'Do you want wireless charging? (y/n)',\n",
    "]\n",
    "\n",
    "all_categories = [exact_questions,performance_questions, camera_questions,software_questions,display_questions,storage_questions,speaker_questions]"
   ]
  },
  {
   "cell_type": "code",
   "execution_count": null,
   "metadata": {},
   "outputs": [],
   "source": [
    "for prompts in stage1:\n",
    "    print(prompts)\n",
    "lst = []"
   ]
  },
  {
   "cell_type": "code",
   "execution_count": null,
   "metadata": {},
   "outputs": [],
   "source": [
    "lst = []\n",
    "for category in all_categories:\n",
    "    for questions in category:\n",
    "        lst.append(input(questions))\n"
   ]
  },
  {
   "cell_type": "code",
   "execution_count": null,
   "metadata": {},
   "outputs": [],
   "source": [
    "df2.head()"
   ]
  },
  {
   "cell_type": "code",
   "execution_count": null,
   "metadata": {},
   "outputs": [],
   "source": [
    "lst = []\n",
    "lst.append('y')\n",
    "lst.append('Hello')\n",
    "lst.append('y')\n",
    "# lst.append(True)\n",
    "mapping_dict = {'y':True,'n':False}\n",
    "lst = list(map(lambda x: mapping_dict[x] if x in mapping_dict else x,lst))\n",
    "lst\n",
    "# if any(lst):\n",
    "#     print(\"HelloWOrld\")"
   ]
  },
  {
   "cell_type": "code",
   "execution_count": null,
   "metadata": {},
   "outputs": [],
   "source": [
    "string = '2000-3000'\n",
    "low,high = map(int, string.split('-'))\n",
    "low,high"
   ]
  },
  {
   "cell_type": "code",
   "execution_count": null,
   "metadata": {},
   "outputs": [],
   "source": [
    "import pandas as pd\n",
    "\n",
    "# Sample DataFrame\n",
    "data = {'fruit': ['apple', 'banana', 'orange', 'mango', 'grape'],\n",
    "        'color': ['red', 'yellow', 'orange', 'yellow', 'purple'],\n",
    "        'price': [1.25, 0.75, 1.50, 1.00, 0.50]}\n",
    "df = pd.DataFrame(data)\n",
    "print(df)\n",
    "print()\n",
    "# Apply a discount to orange fruits\n",
    "discounted_price = df[df['fruit'] == 'orange']['price'] * 0.9  # Vectorized operation\n",
    "\n",
    "# Update the 'price' column for oranges\n",
    "df.loc[df['fruit'] == 'orange', 'price'] = discounted_price\n",
    "\n",
    "print(df)\n"
   ]
  },
  {
   "cell_type": "code",
   "execution_count": null,
   "metadata": {},
   "outputs": [],
   "source": [
    "df"
   ]
  },
  {
   "cell_type": "code",
   "execution_count": null,
   "metadata": {},
   "outputs": [],
   "source": [
    "def bad_software(row):\n",
    "    if row['brand_name'] not in ['itel','samsung']:\n",
    "        return row['rating']*0.5\n",
    "    else: \n",
    "        return row['rating']\n",
    "df['rating']= df.apply(bad_software,axis=1)\n",
    "df"
   ]
  },
  {
   "cell_type": "code",
   "execution_count": null,
   "metadata": {},
   "outputs": [],
   "source": [
    "lst1= [True, True, False]\n",
    "lst2 = False\n",
    "# any([False].append([False]))\n",
    "([False for i in range(5)]+lst1).count(True)"
   ]
  }
 ],
 "metadata": {
  "kernelspec": {
   "display_name": "Draft1",
   "language": "python",
   "name": "python3"
  },
  "language_info": {
   "codemirror_mode": {
    "name": "ipython",
    "version": 3
   },
   "file_extension": ".py",
   "mimetype": "text/x-python",
   "name": "python",
   "nbconvert_exporter": "python",
   "pygments_lexer": "ipython3",
   "version": "3.12.2"
  }
 },
 "nbformat": 4,
 "nbformat_minor": 2
}

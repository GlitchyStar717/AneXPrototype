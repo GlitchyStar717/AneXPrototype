{
 "cells": [
  {
   "cell_type": "code",
   "execution_count": 1,
   "metadata": {},
   "outputs": [],
   "source": [
    "import numpy as np\n",
    "import pandas as pd"
   ]
  },
  {
   "cell_type": "code",
   "execution_count": 27,
   "metadata": {},
   "outputs": [
    {
     "name": "stdout",
     "output_type": "stream",
     "text": [
      "{'questions': [{'question': 'What phone do you want?', 'options': ['IPhone', 'Android', 'Open to Both']}, {'question': 'Do you want a particular smartphone brand?', 'options': ['No', 'Yes']}, {'question': 'What screen size would you prefer?', 'options': ['below 6.1\"', 'between 6.1\" & 6.6\"', 'above 6.6\"', \"Doesn't matter\"]}, {'question': 'Do you want your phone to have 5g?', 'options': ['Yes', 'No', 'Any']}, {'question': 'What is your budget range Example (inside the \"\") \"45000-50000\"?', 'options': []}, {'question': 'Do you frequently play games on your smartphone?', 'options': ['Yes', 'No']}, {'question': 'Do you use a lot of apps?', 'options': ['Yes', 'No']}, {'question': 'Do you want to take high quality photos and videos?', 'options': ['Yes', 'No']}, {'question': 'Do you wish to use your smartphone for over 5 years?', 'options': ['Yes', 'No']}, {'question': 'Do you wish to have all new features in your smartphone?', 'options': ['Yes', 'No']}, {'question': 'Do you want to take high quality photos and videos?', 'options': ['Yes', 'No']}, {'question': 'Do you want a camera that shoot good in night time?', 'options': ['Yes', 'No']}, {'question': 'Would you love to shoot zoom and portrait shots?', 'options': ['Yes', 'No']}, {'question': 'Do you want to shoot many videos?', 'options': ['Yes', 'No']}, {'question': 'Do you want to shoot many photos?', 'options': ['Yes', 'No']}, {'question': 'Do you want to get new updates for 5+ years?', 'options': ['Yes', 'No']}, {'question': 'Do you mind useless apps pre-installed in your smartphone?', 'options': ['Yes', 'No']}, {'question': 'Do you like to have easy software support?', 'options': ['Yes', 'No']}, {'question': 'Can you distinguish between smooth and non-smooth animation?', 'options': ['Yes', 'No']}, {'question': 'Do you do a lot of scrolling?', 'options': ['Yes', 'No']}, {'question': 'Do you like watching movies in mobile?', 'options': ['Yes', 'No']}, {'question': 'Do you consume a lot of media like YouTube and more?', 'options': ['Yes', 'No']}, {'question': 'Do you wish to use phone a lot on sunlight?', 'options': ['Yes', 'No']}, {'question': 'Do you take a lot of photos and videos?', 'options': ['Yes', 'No']}, {'question': 'Do you store a lot of offline media like movies or other files in smartphones?', 'options': ['Yes', 'No']}, {'question': 'Do you want your smartphone to be able to store everything you want for years to come?', 'options': ['Yes', 'No']}, {'question': 'Do you want to transfer from and to your smartphones quickly?', 'options': ['Yes', 'No']}, {'question': 'Do you download a lot of apps or games?', 'options': ['Yes', 'No']}, {'question': 'Would you like a good speaker?', 'options': ['Yes', 'No']}, {'question': 'Do you like a bigger battery?', 'options': ['Yes', 'No']}, {'question': 'Do you charge very rarely?', 'options': ['Yes', 'No']}, {'question': 'Do you want fast charging?', 'options': ['Yes', 'No']}, {'question': 'Do you want wireless charging?', 'options': ['Yes', 'No']}]}\n"
     ]
    }
   ],
   "source": [
    "#Input Questions for recommendation\n",
    "\n",
    "yes_no_option = ['Yes','No']\n",
    "\n",
    "\n",
    "\n",
    "stage1 = [\n",
    "    'How do you want to get recommendation?',\n",
    "    'Entering your own phrase',\n",
    "    'Get your questions asked'\n",
    "]\n",
    "\n",
    "exact_questions = [\n",
    "    {\"question\": 'What phone do you want?', \"options\": ['IPhone', 'Android', 'Open to Both']},\n",
    "    {\"question\": \"Do you want a particular smartphone brand?\", \"options\": [\"No\", \"Yes\"]},\n",
    "    {\"question\": 'What screen size would you prefer?', \"options\": [\"below 6.1\\\"\", \"between 6.1\\\" & 6.6\\\"\", \"above 6.6\\\"\", \"Doesn't matter\"]},\n",
    "    {\"question\": 'Do you want your phone to have 5g?', \"options\": [\"Yes\", \"No\", \"Any\"]},\n",
    "    {\"question\": 'What is your budget range?', \"options\": [\"Budget\",\"Midrange\",\"Flagship\",\"Any\"]}\n",
    "]\n",
    "\n",
    "performance_questions = [\n",
    "    {\"question\": 'Do you frequently play games on your smartphone?', \"options\": [\"Yes\", \"No\"]},\n",
    "    {\"question\": 'Do you use a lot of apps?', \"options\": [\"Yes\", \"No\"]},\n",
    "    {\"question\": 'Do you want to take high quality photos and videos?', \"options\": [\"Yes\", \"No\"]},\n",
    "    {\"question\": 'Do you wish to use your smartphone for over 5 years?', \"options\": [\"Yes\", \"No\"]},\n",
    "    {\"question\": 'Do you wish to have all new features in your smartphone?', \"options\": [\"Yes\", \"No\"]}\n",
    "]\n",
    "\n",
    "camera_questions = [\n",
    "    {\"question\": 'Do you want to take high quality photos and videos?', \"options\": [\"Yes\", \"No\"]},\n",
    "    {\"question\": 'Do you want a camera that shoot good in night time?', \"options\": [\"Yes\", \"No\"]},\n",
    "    {\"question\": 'Would you love to shoot zoom and portrait shots?', \"options\": [\"Yes\", \"No\"]},\n",
    "    {\"question\": 'Do you want to shoot many videos?', \"options\": [\"Yes\", \"No\"]},\n",
    "    {\"question\": 'Do you want to shoot many photos?', \"options\": [\"Yes\", \"No\"]}\n",
    "]\n",
    "\n",
    "software_questions = [\n",
    "    {\"question\": 'Do you want to get new updates for 5+ years?', \"options\": [\"Yes\", \"No\"]},\n",
    "    {\"question\": \"Do you mind useless apps pre-installed in your smartphone?\", \"options\": [\"Yes\", \"No\"]},\n",
    "    {\"question\": 'Do you like to have easy software support?', \"options\": [\"Yes\", \"No\"]},\n",
    "    {\"question\": 'Can you distinguish between smooth and non-smooth animation?', \"options\": [\"Yes\", \"No\"]}\n",
    "]\n",
    "\n",
    "display_questions = [\n",
    "    {\"question\": 'Do you do a lot of scrolling?', \"options\": [\"Yes\", \"No\"]},\n",
    "    {\"question\": 'Do you like watching movies in mobile?', \"options\": [\"Yes\", \"No\"]},\n",
    "    {\"question\": 'Do you consume a lot of media like YouTube and more?', \"options\": [\"Yes\", \"No\"]},\n",
    "    {\"question\": 'Do you wish to use phone a lot on sunlight?', \"options\": [\"Yes\", \"No\"]}\n",
    "]\n",
    "\n",
    "storage_questions = [\n",
    "    {\"question\": 'Do you take a lot of photos and videos?', \"options\": [\"Yes\", \"No\"]},\n",
    "    {\"question\": 'Do you store a lot of offline media like movies or other files in smartphones?', \"options\": [\"Yes\", \"No\"]},\n",
    "    {\"question\": 'Do you want your smartphone to be able to store everything you want for years to come?', \"options\": [\"Yes\", \"No\"]},\n",
    "    {\"question\": 'Do you want to transfer from and to your smartphones quickly?', \"options\": [\"Yes\", \"No\"]},\n",
    "    {\"question\": 'Do you download a lot of apps or games?', \"options\": [\"Yes\", \"No\"]}\n",
    "]\n",
    "\n",
    "speaker_questions = [\n",
    "    {\"question\": \"Would you like a good speaker?\", \"options\": [\"Yes\", \"No\"]}\n",
    "]\n",
    "\n",
    "battery_questions = [\n",
    "    {\"question\": 'Do you like a bigger battery?', \"options\": [\"Yes\", \"No\"]},\n",
    "    {\"question\": 'Do you charge very rarely?', \"options\": [\"Yes\", \"No\"]},\n",
    "    {\"question\": 'Do you want fast charging?', \"options\": [\"Yes\", \"No\"]},\n",
    "    {\"question\": 'Do you want wireless charging?', \"options\": [\"Yes\", \"No\"]}\n",
    "]\n",
    "\n",
    "\n",
    "all_questions = []\n",
    "all_questions.extend(exact_questions)\n",
    "# all_questions.extend(performance_questions)\n",
    "# all_questions.extend(camera_questions)\n",
    "# all_questions.extend(software_questions)\n",
    "# all_questions.extend(display_questions)\n",
    "# all_questions.extend(storage_questions)\n",
    "all_questions.extend(speaker_questions)\n",
    "# all_questions.extend(battery_questions)\n",
    "\n",
    "# Combine all questions into a single array\n",
    "# { \"questions\": [{\"question\":\"\", \"options\":[]},{}] }\n",
    "\n",
    "final_object = {\"questions\": []}\n",
    "for item in all_questions:\n",
    "    final_object[\"questions\"].append(item)\n",
    "\n",
    "\n",
    "print(final_object)\n"
   ]
  },
  {
   "cell_type": "code",
   "execution_count": 29,
   "metadata": {},
   "outputs": [
    {
     "name": "stdout",
     "output_type": "stream",
     "text": [
      "[NbConvertApp] Converting notebook main.ipynb to script\n",
      "[NbConvertApp] Writing 4279 bytes to main.py\n"
     ]
    }
   ],
   "source": [
    "!jupyter nbconvert --to script main.ipynb\n"
   ]
  },
  {
   "cell_type": "code",
   "execution_count": null,
   "metadata": {},
   "outputs": [],
   "source": []
  }
 ],
 "metadata": {
  "kernelspec": {
   "display_name": ".venv",
   "language": "python",
   "name": "python3"
  },
  "language_info": {
   "codemirror_mode": {
    "name": "ipython",
    "version": 3
   },
   "file_extension": ".py",
   "mimetype": "text/x-python",
   "name": "python",
   "nbconvert_exporter": "python",
   "pygments_lexer": "ipython3",
   "version": "3.9.16"
  }
 },
 "nbformat": 4,
 "nbformat_minor": 2
}
